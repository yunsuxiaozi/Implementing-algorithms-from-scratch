{
 "cells": [
  {
   "cell_type": "markdown",
   "id": "5ec51196",
   "metadata": {
    "papermill": {
     "duration": 0.002654,
     "end_time": "2024-03-12T12:04:23.502557",
     "exception": false,
     "start_time": "2024-03-12T12:04:23.499903",
     "status": "completed"
    },
    "tags": []
   },
   "source": [
    "## Created by yunsuxiaozi 2024/3/19\n",
    "\n",
    "### 这里实现了机器学习一些比较常用的评估指标和损失函数,并且给出了对应的比赛链接,各位可以通过比赛来了解这些评估指标的使用。后续可能会更新更多机器学习中常用的评估指标和损失函数."
   ]
  },
  {
   "cell_type": "code",
   "execution_count": 1,
   "id": "85a71a45",
   "metadata": {
    "_cell_guid": "b1076dfc-b9ad-4769-8c92-a6c4dae69d19",
    "_uuid": "8f2839f25d086af736a60e9eeb907d3b93b6e0e5",
    "execution": {
     "iopub.execute_input": "2024-03-12T12:04:23.509121Z",
     "iopub.status.busy": "2024-03-12T12:04:23.508673Z",
     "iopub.status.idle": "2024-03-12T12:04:27.350840Z",
     "shell.execute_reply": "2024-03-12T12:04:27.349422Z"
    },
    "papermill": {
     "duration": 3.848903,
     "end_time": "2024-03-12T12:04:27.353776",
     "exception": false,
     "start_time": "2024-03-12T12:04:23.504873",
     "status": "completed"
    },
    "tags": []
   },
   "outputs": [
    {
     "name": "stdout",
     "output_type": "stream",
     "text": [
      "Regression\n",
      "-------MSE--------\n",
      "-------MAE--------\n",
      "-------MedAE--------competition:https://www.kaggle.com/competitions/playground-series-s3e25\n",
      "-------RMSE--------competition:https://www.kaggle.com/competitions/linking-writing-processes-to-writing-quality\n",
      "-------RMSLE--------competition:https://www.kaggle.com/competitions/store-sales-time-series-forecasting\n",
      "classification\n",
      "-------logloss--------competition:https://www.kaggle.com/competitions/playground-series-s3e26\n",
      "-------accuracy--------competition:https://www.kaggle.com/competitions/ml-olympiad-toxic-language-ptbr-detection\n",
      "-------roc_auc--------competition:https://www.kaggle.com/competitions/playground-series-s4e3\n",
      "-------KL_divergence--------competition:https://www.kaggle.com/competitions/hms-harmful-brain-activity-classification\n",
      "-------cross_entropy_loss--------competition:https://www.kaggle.com/competitions/digit-recognizer\n"
     ]
    }
   ],
   "source": [
    "import numpy as np#进行矩阵运算的库\n",
    "import torch #一个深度学习的库Pytorch\n",
    "import torch.nn as nn#neural network,神经网络\n",
    "import torch.nn.functional as F#神经网络函数库\n",
    "\n",
    "print(\"Regression\")\n",
    "print(f\"-------MSE--------\")\n",
    "def MSE(y_true,y_pred):\n",
    "    return np.mean((y_true-y_pred)**2)\n",
    "print(f\"-------MAE--------\")\n",
    "def MAE(y_true,y_pred):\n",
    "    return np.mean(np.abs(y_true-y_pred))\n",
    "print(f\"-------MedAE--------competition:https://www.kaggle.com/competitions/playground-series-s3e25\")\n",
    "def MedAE(y_true,y_pred):\n",
    "    return np.median(np.abs(y_true-y_pred)) \n",
    "print(f\"-------RMSE--------competition:https://www.kaggle.com/competitions/linking-writing-processes-to-writing-quality\")\n",
    "def RMSE(y_true,y_pred):\n",
    "    return np.sqrt(np.mean((y_true-y_pred)**2))\n",
    "print(f\"-------RMSLE--------competition:https://www.kaggle.com/competitions/store-sales-time-series-forecasting\")\n",
    "def RMSLE(y_true,y_pred):\n",
    "    return np.sqrt(np.mean((np.log1p(y_pred)-np.log1p(y_true))**2))\n",
    "\n",
    "print(\"classification\")\n",
    "print(f\"-------logloss--------competition:https://www.kaggle.com/competitions/playground-series-s3e26\")\n",
    "#评估指标是log_loss\n",
    "def log_loss(y_true,y_pred,eps=10**(-15)):\n",
    "    y_true=np.clip(y_true,eps,1-eps)\n",
    "    y_pred=np.clip(y_pred,eps,1-eps)\n",
    "    return -np.mean(np.sum(y_true*np.log(y_pred),axis=-1))\n",
    "print(f\"-------accuracy--------competition:https://www.kaggle.com/competitions/ml-olympiad-toxic-language-ptbr-detection\")\n",
    "def accuracy(y_true,y_pred):\n",
    "    return np.mean(y_true==y_pred)\n",
    "print(f\"-------roc_auc--------competition:https://www.kaggle.com/competitions/playground-series-s4e3\")\n",
    "def roc_auc(y_true,y_pro):#y_true是真实标签,y_pro是预测的概率值.\n",
    "    steps=10000\n",
    "    x=[]\n",
    "    y=[]\n",
    "    for step in range(steps):\n",
    "        step_idx=step/steps\n",
    "        y_pred=np.where(y_pro>=step_idx,1,0)\n",
    "        #查全率(Recall),真正例（True Positive Rate，TPR）:在所有真实的正例中，预测为正例的比例 \n",
    "        TPR=np.sum(np.where(y_true+y_pred==2,1,0))/np.sum(y_true)\n",
    "        #假正例（False Positive Rate，FPR），表示所有负例中，预测为正例的比例：\n",
    "        FPR=np.sum((y_true==0)&(y_pred==1))/np.sum(y_true==0)\n",
    "        x.append(FPR)\n",
    "        y.append(TPR)\n",
    "    #希尔排序算法(nlogn)\n",
    "    mid=steps//2\n",
    "    while(mid):\n",
    "        for i in range(0,mid):\n",
    "            for j in range(i+mid,steps,mid):\n",
    "                if x[j]<x[j-mid]:\n",
    "                    k=j\n",
    "                    while((k>=mid)&(x[k]<=x[k-mid])):\n",
    "                        if x[k]<x[k-mid]:\n",
    "                            x[k],x[k-mid]=x[k-mid],x[k]\n",
    "                            y[k],y[k-mid]=y[k-mid],y[k]\n",
    "                        elif (x[k]==x[k-mid])&(y[k]<y[k-mid]):\n",
    "                            y[k],y[k-mid]=y[k-mid],y[k]\n",
    "                        k-=mid\n",
    "        mid=mid//2\n",
    "    AUC=0\n",
    "    for i in range(len(y)-1):\n",
    "        AUC+=(x[i+1]-x[i])*(y[i+1]+y[i])/2\n",
    "    return AUC\n",
    "#分类模型想要评估模型的好坏还是看预测的概率值,而不是预测的类别,f1-score,macro-f1暂时不写.\n",
    "print(f\"-------KL_divergence--------competition:https://www.kaggle.com/competitions/hms-harmful-brain-activity-classification\")\n",
    "def KL_divergence(p,q,epsilon=10**(-15)):\n",
    "    p=torch.clip(p,epsilon,1-epsilon)\n",
    "    q = F.log_softmax(q,dim=1)\n",
    "    #对第一个维度,就是num_classes维度的损失求和,得到每个样本的损失,然后对第0维求平均,得到每个样本平均KL散度.\n",
    "    return torch.mean(torch.sum(p*(torch.log(p)-q),dim=1))\n",
    "print(f\"-------cross_entropy_loss--------competition:https://www.kaggle.com/competitions/digit-recognizer\")\n",
    "\n",
    "def cross_entropy_loss(y_pro,y_target,eps=1e-15):\n",
    "    y_target=torch.eye(y_pro.shape[-1])[y_target]\n",
    "    y_pro=torch.clip(y_pro,eps,1-eps)\n",
    "    y_target=torch.clip(y_target,eps,1-eps)\n",
    "    return -torch.mean(torch.sum(y_target*((1-y_pro))*torch.log(y_pro),dim=1),dim=0)\n",
    "def focal_loss(y_pro,y_target,eps=1e-15,gamma=0.25):\n",
    "    y_target=torch.eye(y_pro.shape[-1])[y_target]\n",
    "    y_pro=torch.clip(y_pro,eps,1-eps)\n",
    "    y_target=torch.clip(y_target,eps,1-eps)\n",
    "    return -torch.mean(torch.sum(y_target*((1-y_pro)**gamma)*torch.log(y_pro),dim=1),dim=0)"
   ]
  }
 ],
 "metadata": {
  "kaggle": {
   "accelerator": "none",
   "dataSources": [
    {
     "datasetId": 4477849,
     "sourceId": 7676268,
     "sourceType": "datasetVersion"
    }
   ],
   "dockerImageVersionId": 30664,
   "isGpuEnabled": false,
   "isInternetEnabled": true,
   "language": "python",
   "sourceType": "notebook"
  },
  "kernelspec": {
   "display_name": "Python 3 (ipykernel)",
   "language": "python",
   "name": "python3"
  },
  "language_info": {
   "codemirror_mode": {
    "name": "ipython",
    "version": 3
   },
   "file_extension": ".py",
   "mimetype": "text/x-python",
   "name": "python",
   "nbconvert_exporter": "python",
   "pygments_lexer": "ipython3",
   "version": "3.8.5"
  },
  "papermill": {
   "default_parameters": {},
   "duration": 10.139558,
   "end_time": "2024-03-12T12:04:30.522954",
   "environment_variables": {},
   "exception": null,
   "input_path": "__notebook__.ipynb",
   "output_path": "__notebook__.ipynb",
   "parameters": {},
   "start_time": "2024-03-12T12:04:20.383396",
   "version": "2.5.0"
  }
 },
 "nbformat": 4,
 "nbformat_minor": 5
}
