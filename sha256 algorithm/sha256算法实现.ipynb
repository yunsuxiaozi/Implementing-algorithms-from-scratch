{
 "cells": [
  {
   "cell_type": "markdown",
   "id": "2d21c605",
   "metadata": {
    "papermill": {
     "duration": 0.003022,
     "end_time": "2024-03-11T12:46:01.902263",
     "exception": false,
     "start_time": "2024-03-11T12:46:01.899241",
     "status": "completed"
    },
    "tags": []
   },
   "source": [
    "## Created by yunsuxiaozi 2024/3/11\n",
    "### 这里将实现sha256算法.\n",
    "#### github 常用命令\n",
    "(https://zhuanlan.zhihu.com/p/637271164?utm_id=0)\n",
    "\n",
    "git init\n",
    "\n",
    "git config user.email \"helloworld@hh.com\"\n",
    "\n",
    "git config user.name \"yunsuxiaozi\"\n",
    "\n",
    "git add .\n",
    "\n",
    "git commit -m \"sha256\"\n",
    "\n",
    "git branch -M main\n",
    "\n",
    "git remote add algorithm https://github.com/yunsuxiaozi/Implementing-algorithms-from-scratch.git\n",
    "\n",
    "git push -u algorithm main"
   ]
  },
  {
   "cell_type": "markdown",
   "id": "ca2f5070",
   "metadata": {
    "papermill": {
     "duration": 0.002184,
     "end_time": "2024-03-11T12:46:01.907353",
     "exception": false,
     "start_time": "2024-03-11T12:46:01.905169",
     "status": "completed"
    },
    "tags": []
   },
   "source": [
    "#### 这里是循环右移的函数,比如 x=1000 0000 0000 0000 0000 0000 0000 0000 右移4位变成   0000 1000 0000 0000 0000 0000 0000 0000,即:ROTR(x,n=4)"
   ]
  },
  {
   "cell_type": "code",
   "execution_count": 1,
   "id": "6fe0789c",
   "metadata": {
    "execution": {
     "iopub.execute_input": "2024-03-11T12:46:01.913709Z",
     "iopub.status.busy": "2024-03-11T12:46:01.913344Z",
     "iopub.status.idle": "2024-03-11T12:46:01.926005Z",
     "shell.execute_reply": "2024-03-11T12:46:01.925050Z"
    },
    "papermill": {
     "duration": 0.01898,
     "end_time": "2024-03-11T12:46:01.928779",
     "exception": false,
     "start_time": "2024-03-11T12:46:01.909799",
     "status": "completed"
    },
    "tags": []
   },
   "outputs": [],
   "source": [
    "#这是循环右移的函数.\n",
    "inf=0xFFFFFFFF#32位无符号整数的最大值(2^32-1)\n",
    "def ROTR(x, n):#Rotate Right\n",
    "    x=x&inf#如果输入的数据太大,会限制到2^32-1的范围内.\n",
    "    n=n%32#如果n>32,则限制到32以内的范围.\n",
    "    #x=[a1,a2,……,a32]  则x>>n =[0,0,……,0,a1,a2,……,a32-n] \n",
    "    #x<<(32-n) =[a32-n+1,……a32,0,0,……,0]\n",
    "    x = (x >> n) | (x << (32 - n))\n",
    "    return x"
   ]
  },
  {
   "cell_type": "markdown",
   "id": "61d04b87",
   "metadata": {
    "papermill": {
     "duration": 0.00334,
     "end_time": "2024-03-11T12:46:01.935928",
     "exception": false,
     "start_time": "2024-03-11T12:46:01.932588",
     "status": "completed"
    },
    "tags": []
   },
   "source": [
    "#### sha256算法实现细节:\n",
    "\n",
    "##### 1.初始哈希值H取自自然数中前面8个素数(2,3,5,7,11,13,17,19)的平方根的小数部分, 并且取前面的32位.固定常数K,取自自然数中前面64个素数的立方根的小数部分的前32位.这里可以通过注释掉的代码进行验证.\n",
    "\n",
    "##### 2.utf-8 能够表示世界上几乎所有的字符系统,将字符串表示成二进制的数字,因为计算机只能处理数字.\n",
    "\n",
    "##### 3.数据的padding.由于之后对数据需要按512位分块处理,所以需要将数据padding成512位的倍数.字符串本身的信息占位为$len(binaries)*8$,b'\\x80' 是8位,b'\\x00'\\*(64\\*chunks-len(binaries)-1-8) 是8\\*(64\\*chunks-len(binaries)-1-8)位,最后的字符串的长度信息(这里不是字符串的信息)为64位(2^64-1),计算可以发现得到的M为512的倍数.\n",
    "\n",
    "##### 4.最后对每个chunk进行处理,先将M存储进W[0:16],进行一大堆逻辑运算的操作将字符串的信息进行混合,然后将字符串的信息和初始哈希值的信息进行交互得到混合的信息,我没有仔细思考过这个算法是为什么这样设计的,目前我感觉只是通过复杂性保证了安全性.\n",
    "\n",
    "##### 如果还有其他细节,读者可以看代码理解."
   ]
  },
  {
   "cell_type": "code",
   "execution_count": 2,
   "id": "912d8f0a",
   "metadata": {
    "execution": {
     "iopub.execute_input": "2024-03-11T12:46:01.945558Z",
     "iopub.status.busy": "2024-03-11T12:46:01.944891Z",
     "iopub.status.idle": "2024-03-11T12:46:01.963197Z",
     "shell.execute_reply": "2024-03-11T12:46:01.962013Z"
    },
    "papermill": {
     "duration": 0.026647,
     "end_time": "2024-03-11T12:46:01.966259",
     "exception": false,
     "start_time": "2024-03-11T12:46:01.939612",
     "status": "completed"
    },
    "tags": []
   },
   "outputs": [],
   "source": [
    "def sha_256(origin_str=''):\n",
    "    #初始哈希值取自自然数中前面8个素数(2,3,5,7,11,13,17,19)的平方根的小数部分, 并且取前面的32位.\n",
    "    H = [0x6a09e667,0xbb67ae85,0x3c6ef372,0xa54ff53a,0x510e527f,0x9b05688c,0x1f83d9ab,0x5be0cd19]\n",
    "    # prime=[2,3,5,7,11,13,17,19]\n",
    "    # for idx in range(len(prime)):\n",
    "    #     num=(prime[idx])**(1/2)\n",
    "    #     dot=num-int(num)\n",
    "    #     print(dot,H[idx]/2**32)\n",
    "    \n",
    "    #固定常数,取自自然数中前面64个素数的立方根的小数部分的前32位\n",
    "    K = [0x428a2f98, 0x71374491, 0xb5c0fbcf, 0xe9b5dba5, 0x3956c25b, 0x59f111f1, 0x923f82a4, 0xab1c5ed5,\n",
    "    0xd807aa98, 0x12835b01, 0x243185be, 0x550c7dc3, 0x72be5d74, 0x80deb1fe, 0x9bdc06a7, 0xc19bf174,\n",
    "    0xe49b69c1, 0xefbe4786, 0x0fc19dc6, 0x240ca1cc, 0x2de92c6f, 0x4a7484aa, 0x5cb0a9dc, 0x76f988da,\n",
    "    0x983e5152, 0xa831c66d, 0xb00327c8, 0xbf597fc7, 0xc6e00bf3, 0xd5a79147, 0x06ca6351, 0x14292967,\n",
    "    0x27b70a85, 0x2e1b2138, 0x4d2c6dfc, 0x53380d13, 0x650a7354, 0x766a0abb, 0x81c2c92e, 0x92722c85,\n",
    "    0xa2bfe8a1, 0xa81a664b, 0xc24b8b70, 0xc76c51a3, 0xd192e819, 0xd6990624, 0xf40e3585, 0x106aa070,\n",
    "    0x19a4c116, 0x1e376c08, 0x2748774c, 0x34b0bcb5, 0x391c0cb3, 0x4ed8aa4a, 0x5b9cca4f, 0x682e6ff3,\n",
    "    0x748f82ee, 0x78a5636f, 0x84c87814, 0x8cc70208, 0x90befffa, 0xa4506ceb, 0xbef9a3f7, 0xc67178f2]\n",
    "    \n",
    "    # prime=[2, 3, 5, 7, 11, 13, 17, 19, 23, 29,\n",
    "    # 31, 37, 41, 43, 47, 53, 59, 61, 67, 71,\n",
    "    # 73, 79, 83, 89, 97, 101, 103, 107, 109, 113,\n",
    "    # 127, 131, 137, 139, 149, 151, 157, 163, 167, 173,\n",
    "    # 179, 181, 191, 193, 197, 199, 211, 223, 227, 229]\n",
    "    # for idx in range(len(prime)):\n",
    "    #     num=(prime[idx])**(1/3)\n",
    "    #     dot=num-int(num)\n",
    "    #     print(dot,K[idx]/2**32)\n",
    "    \n",
    "    #utf-8 能够表示世界上几乎所有的字符系统.\n",
    "    binaries = origin_str.encode('utf8')\n",
    "    \n",
    "    \"\"\"\n",
    "    \\x80(16进制)=128(10进制)=1000 0000(2进制,8位)\n",
    "    b'\\x00'=00000000(2进制 8位)\n",
    "    len(binaries)是字节串的长度,即有多少字节,*8是每个字节由8位组成,转换成位长度\n",
    "    to_bytes(8)转换成8字节或者说64位的字节串.byteorder='big'是大端字节序(就是从头到尾存储).\n",
    "\n",
    "    位长度: len(binaries)*8+8位+8位*(64-len(binaries)-1-8)+64位=512.\n",
    "\n",
    "    \"\"\"\n",
    "    chunks=1#M是512的多少倍\n",
    "\n",
    "    while 64*chunks-len(binaries)-9<0:\n",
    "        chunks+=1\n",
    "    #M是512的整数倍\n",
    "    M = binaries + b'\\x80' + b'\\x00'*(64*chunks-len(binaries)-1-8) + (len(binaries)<<3).to_bytes(8, byteorder='big')\n",
    "    \n",
    "    for chunk in range(chunks):\n",
    "        M_copy=M[chunk*64:(chunk+1)*64]\n",
    "        W = [0] * 64#用于存储16个32位字(每个字占用4个字节),初始化为0.\n",
    "        #W[0]~W[15] 这里已经把 这个chunk的二进制转成整数\n",
    "        for t in range(0, 16):\n",
    "            W[t] = M_copy[t*4:(t+1)*4]#4*8=32位长度.\n",
    "            #W[t]转成16进制再转成10进制.\n",
    "            W[t] = int(W[t].hex(), 16)#2^32的整数.\n",
    "\n",
    "        for t in range(16, 64):\n",
    "            #^异或,位上数字相同为0,不同为1.它可以有效地混合数据，使得输出对输入的变化非常敏感\n",
    "            #ROTR:这种操作有助于打乱数据，使得最终的哈希值更加均匀分布，从而提高安全性.\n",
    "            # >> 这种操作进一步增加了数据的混合，有助于提高哈希函数的抗碰撞性。\n",
    "            S1 = ROTR(W[t - 2], 17) ^ ROTR(W[t - 2], 19) ^ (W[t - 2]>>10)\n",
    "            S0 = ROTR(W[t - 15], 7) ^ ROTR(W[t - 15], 18) ^ (W[t - 15]>>3)\n",
    "            #这么多大数求和,  压缩为8位 & 0xFFFFFFFF\n",
    "            W[t] = (S1+W[t-7]+S0+W[t-16]) & inf\n",
    "            # 为什么要进行压缩？因为运算的时候超过8位16进制数字了\n",
    "            # 压缩的目的是去掉8位前多余的数值\n",
    "\n",
    "        a,b,c,d,e,f,g,h=H#取出初始哈希值\n",
    "\n",
    "        for t in range(0, 64):\n",
    "            S1 = ROTR(e, 6) ^ ROTR(e, 11) ^ ROTR(e, 25)\n",
    "            Ch = (e & f) ^ ((~e) & g)\n",
    "            S0 = ROTR(a, 2) ^ ROTR(a, 13) ^ ROTR(a, 22)\n",
    "            Maj = (a & b) ^ (a & c) ^ (b & c)\n",
    "            T1 = h + S1 + Ch + K[t] + W[t]\n",
    "            T2 = S0 + Maj\n",
    "            h = g\n",
    "            g = f\n",
    "            f = e\n",
    "            e = (d + T1) & inf\n",
    "            d = c\n",
    "            c = b\n",
    "            b = a\n",
    "            a = (T1 + T2) & inf\n",
    "\n",
    "        H[0] = a + H[0] & inf\n",
    "        H[1] = b + H[1] & inf\n",
    "        H[2] = c + H[2] & inf\n",
    "        H[3] = d + H[3] & inf\n",
    "        H[4] = e + H[4] & inf\n",
    "        H[5] = f + H[5] & inf\n",
    "        H[6] = g + H[6] & inf\n",
    "        H[7] = h + H[7] & inf\n",
    "    sha256 = ''\n",
    "    for idx  in  range(len(H)):\n",
    "        #将整数转换成4个字节(4*8=32位)的二进制数据,然后再转成十六进制数据(hex)\n",
    "        sha256 = sha256 + H[idx].to_bytes(4, byteorder='big').hex()\n",
    "    return sha256"
   ]
  },
  {
   "cell_type": "markdown",
   "id": "62ca8a55",
   "metadata": {
    "papermill": {
     "duration": 0.003582,
     "end_time": "2024-03-11T12:46:01.973732",
     "exception": false,
     "start_time": "2024-03-11T12:46:01.970150",
     "status": "completed"
    },
    "tags": []
   },
   "source": [
    "##### 算法的检验:算法的检验比较简单粗暴,就是随机生成一大堆数据,用手写的算法和标准库的算法进行比较,如果准确率为1的话就没有问题了.目前在小范围测试是没有问题的."
   ]
  },
  {
   "cell_type": "code",
   "execution_count": 3,
   "id": "837a4a20",
   "metadata": {
    "execution": {
     "iopub.execute_input": "2024-03-11T12:46:01.983536Z",
     "iopub.status.busy": "2024-03-11T12:46:01.982505Z",
     "iopub.status.idle": "2024-03-11T12:46:17.862531Z",
     "shell.execute_reply": "2024-03-11T12:46:17.861279Z"
    },
    "papermill": {
     "duration": 15.887331,
     "end_time": "2024-03-11T12:46:17.864852",
     "exception": false,
     "start_time": "2024-03-11T12:46:01.977521",
     "status": "completed"
    },
    "tags": []
   },
   "outputs": [
    {
     "name": "stdout",
     "output_type": "stream",
     "text": [
      "accuracy:1.0\n"
     ]
    }
   ],
   "source": [
    "import random#用于生成随机数的库\n",
    "import hashlib#使用哈希算法对数据加密的库\n",
    "seed=2024\n",
    "random.seed(seed)\n",
    "num_string=10000\n",
    "char_num=\"abcdefghijklmnopqrstuvwxyz0123456789\"#可供选择的字符是a~z加上数字\n",
    "random_strings = []#存储随机生成的字符串\n",
    "\n",
    "for _ in range(num_string):\n",
    "    str_len = random.randint(10, 500)  #生成长度为10到500的字符\n",
    "    random_string = ''.join(random.choices(char_num, k=str_len))\n",
    "    random_strings.append(random_string)\n",
    "true_cnt=0#手写算法正确的个数\n",
    "for idx in range(num_string):\n",
    "    origin_str=random_strings[idx]\n",
    "    #hashlib.sha256(binaries).hexdigest() 对二进制数据binaries经过sha-256算法计算后的十六进制哈希值\n",
    "    if sha_256(origin_str) == hashlib.sha256(origin_str.encode('utf8')).hexdigest():\n",
    "        true_cnt+=1\n",
    "print(f\"accuracy:{true_cnt/num_string}\")"
   ]
  }
 ],
 "metadata": {
  "kaggle": {
   "accelerator": "none",
   "dataSources": [
    {
     "datasetId": 4477849,
     "sourceId": 7676268,
     "sourceType": "datasetVersion"
    }
   ],
   "dockerImageVersionId": 30664,
   "isGpuEnabled": false,
   "isInternetEnabled": true,
   "language": "python",
   "sourceType": "notebook"
  },
  "kernelspec": {
   "display_name": "Python 3 (ipykernel)",
   "language": "python",
   "name": "python3"
  },
  "language_info": {
   "codemirror_mode": {
    "name": "ipython",
    "version": 3
   },
   "file_extension": ".py",
   "mimetype": "text/x-python",
   "name": "python",
   "nbconvert_exporter": "python",
   "pygments_lexer": "ipython3",
   "version": "3.8.5"
  },
  "papermill": {
   "default_parameters": {},
   "duration": 19.166671,
   "end_time": "2024-03-11T12:46:18.287762",
   "environment_variables": {},
   "exception": null,
   "input_path": "__notebook__.ipynb",
   "output_path": "__notebook__.ipynb",
   "parameters": {},
   "start_time": "2024-03-11T12:45:59.121091",
   "version": "2.5.0"
  }
 },
 "nbformat": 4,
 "nbformat_minor": 5
}
