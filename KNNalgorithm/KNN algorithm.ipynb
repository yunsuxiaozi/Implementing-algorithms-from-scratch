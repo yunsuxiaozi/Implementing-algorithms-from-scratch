{
 "cells": [
  {
   "cell_type": "markdown",
   "id": "a1a4d58d",
   "metadata": {
    "_cell_guid": "b1076dfc-b9ad-4769-8c92-a6c4dae69d19",
    "_uuid": "8f2839f25d086af736a60e9eeb907d3b93b6e0e5",
    "papermill": {
     "duration": 0.003265,
     "end_time": "2024-03-19T11:11:50.148104",
     "exception": false,
     "start_time": "2024-03-19T11:11:50.144839",
     "status": "completed"
    },
    "tags": []
   },
   "source": [
    "## Created by yunsuxiaozi 2024/3/19\n",
    "\n",
    "### github:https://github.com/yunsuxiaozi/Implementing-algorithms-from-scratch\n",
    "\n",
    "#### 这里从0开始实现K近邻算法,这里使用的是一个入门的数据集:鸢尾花数据集."
   ]
  },
  {
   "cell_type": "code",
   "execution_count": 1,
   "id": "3b0a6861",
   "metadata": {
    "execution": {
     "iopub.execute_input": "2024-03-19T11:11:50.155777Z",
     "iopub.status.busy": "2024-03-19T11:11:50.155125Z",
     "iopub.status.idle": "2024-03-19T11:11:51.086936Z",
     "shell.execute_reply": "2024-03-19T11:11:51.085764Z"
    },
    "papermill": {
     "duration": 0.939236,
     "end_time": "2024-03-19T11:11:51.089897",
     "exception": false,
     "start_time": "2024-03-19T11:11:50.150661",
     "status": "completed"
    },
    "tags": []
   },
   "outputs": [],
   "source": [
    "#necessary\n",
    "import pandas as pd#导入csv文件的库\n",
    "import numpy as np#进行矩阵运算的库\n",
    "#从0开始实现一下KNN分类算法\n",
    "class KNNClassifier():\n",
    "    def __init__(self,n_neighbors=3):\n",
    "        self.n_neighbors=n_neighbors#选择最近的几个邻居作为预测的结果\n",
    "        self.mean=0.0\n",
    "        self.std=1.0\n",
    "    #传入训练数据train_X和train_y,is_standardization是否要标准化\n",
    "    def fit(self,train_X,train_y,is_standardization=True):\n",
    "        self.train_X=train_X\n",
    "        self.train_y=train_y\n",
    "        self.is_standardization=is_standardization\n",
    "        if is_standardization:#如果对数据进行标准化的话,求出均值和方差\n",
    "            self.mean=train_X.mean(axis=0)\n",
    "            self.std=train_X.std(axis=0)\n",
    "            self.train_X=(self.train_X-self.mean)/self.std\n",
    "        self.labels=np.unique(self.train_y)#有哪几个类别\n",
    "    def predict(self,test_X):\n",
    "        self.test_X=test_X\n",
    "        if self.is_standardization:#如果训练数据有归一化,那么测试数据也要归一化\n",
    "            self.test_X=(self.test_X-self.mean)/self.std\n",
    "        test_pred=np.zeros((len(test_X))).astype(object)\n",
    "        for idx in range(len(self.test_X)):\n",
    "            distance=[]\n",
    "            for j in range(len(self.train_X)):\n",
    "                dis=np.sqrt(np.sum((self.test_X[idx]-self.train_X[j])**2))#这里使用的欧几里得距离\n",
    "                distance.append(dis)\n",
    "            sorted_distance=sorted(distance)\n",
    "            #小于sorted_distance[self.n_neighbor]的标签统计\n",
    "            labels_count=np.zeros((len(self.labels)))#每种类别的个数统计\n",
    "            for j in range(len(distance)):\n",
    "                if distance[j]<sorted_distance[int(self.n_neighbors)]:\n",
    "                    label_idx=np.argmax(self.labels==self.train_y[j])\n",
    "                    labels_count[label_idx]+=1\n",
    "            test_pred[idx]=self.labels[np.argmax(labels_count)]\n",
    "        return test_pred "
   ]
  },
  {
   "cell_type": "code",
   "execution_count": 2,
   "id": "a586c3ce",
   "metadata": {
    "execution": {
     "iopub.execute_input": "2024-03-19T11:11:51.096665Z",
     "iopub.status.busy": "2024-03-19T11:11:51.095883Z",
     "iopub.status.idle": "2024-03-19T11:11:51.138366Z",
     "shell.execute_reply": "2024-03-19T11:11:51.137275Z"
    },
    "papermill": {
     "duration": 0.049083,
     "end_time": "2024-03-19T11:11:51.141446",
     "exception": false,
     "start_time": "2024-03-19T11:11:51.092363",
     "status": "completed"
    },
    "tags": []
   },
   "outputs": [
    {
     "data": {
      "text/html": [
       "<div>\n",
       "<style scoped>\n",
       "    .dataframe tbody tr th:only-of-type {\n",
       "        vertical-align: middle;\n",
       "    }\n",
       "\n",
       "    .dataframe tbody tr th {\n",
       "        vertical-align: top;\n",
       "    }\n",
       "\n",
       "    .dataframe thead th {\n",
       "        text-align: right;\n",
       "    }\n",
       "</style>\n",
       "<table border=\"1\" class=\"dataframe\">\n",
       "  <thead>\n",
       "    <tr style=\"text-align: right;\">\n",
       "      <th></th>\n",
       "      <th>SepalLengthCm</th>\n",
       "      <th>SepalWidthCm</th>\n",
       "      <th>PetalLengthCm</th>\n",
       "      <th>PetalWidthCm</th>\n",
       "      <th>Species</th>\n",
       "    </tr>\n",
       "  </thead>\n",
       "  <tbody>\n",
       "    <tr>\n",
       "      <th>0</th>\n",
       "      <td>5.1</td>\n",
       "      <td>3.5</td>\n",
       "      <td>1.4</td>\n",
       "      <td>0.2</td>\n",
       "      <td>Iris-setosa</td>\n",
       "    </tr>\n",
       "    <tr>\n",
       "      <th>1</th>\n",
       "      <td>4.9</td>\n",
       "      <td>3.0</td>\n",
       "      <td>1.4</td>\n",
       "      <td>0.2</td>\n",
       "      <td>Iris-setosa</td>\n",
       "    </tr>\n",
       "    <tr>\n",
       "      <th>2</th>\n",
       "      <td>4.7</td>\n",
       "      <td>3.2</td>\n",
       "      <td>1.3</td>\n",
       "      <td>0.2</td>\n",
       "      <td>Iris-setosa</td>\n",
       "    </tr>\n",
       "    <tr>\n",
       "      <th>3</th>\n",
       "      <td>4.6</td>\n",
       "      <td>3.1</td>\n",
       "      <td>1.5</td>\n",
       "      <td>0.2</td>\n",
       "      <td>Iris-setosa</td>\n",
       "    </tr>\n",
       "    <tr>\n",
       "      <th>4</th>\n",
       "      <td>5.0</td>\n",
       "      <td>3.6</td>\n",
       "      <td>1.4</td>\n",
       "      <td>0.2</td>\n",
       "      <td>Iris-setosa</td>\n",
       "    </tr>\n",
       "  </tbody>\n",
       "</table>\n",
       "</div>"
      ],
      "text/plain": [
       "   SepalLengthCm  SepalWidthCm  PetalLengthCm  PetalWidthCm      Species\n",
       "0            5.1           3.5            1.4           0.2  Iris-setosa\n",
       "1            4.9           3.0            1.4           0.2  Iris-setosa\n",
       "2            4.7           3.2            1.3           0.2  Iris-setosa\n",
       "3            4.6           3.1            1.5           0.2  Iris-setosa\n",
       "4            5.0           3.6            1.4           0.2  Iris-setosa"
      ]
     },
     "execution_count": 2,
     "metadata": {},
     "output_type": "execute_result"
    }
   ],
   "source": [
    "train_df=pd.read_csv(\"Iris.csv\")\n",
    "train_df.drop(['Id'],axis=1,inplace=True)\n",
    "train_df.head()"
   ]
  },
  {
   "cell_type": "code",
   "execution_count": 3,
   "id": "fb6814b0",
   "metadata": {
    "execution": {
     "iopub.execute_input": "2024-03-19T11:11:51.148846Z",
     "iopub.status.busy": "2024-03-19T11:11:51.148431Z",
     "iopub.status.idle": "2024-03-19T11:11:51.342405Z",
     "shell.execute_reply": "2024-03-19T11:11:51.341015Z"
    },
    "papermill": {
     "duration": 0.201134,
     "end_time": "2024-03-19T11:11:51.345337",
     "exception": false,
     "start_time": "2024-03-19T11:11:51.144203",
     "status": "completed"
    },
    "tags": []
   },
   "outputs": [
    {
     "name": "stdout",
     "output_type": "stream",
     "text": [
      "train_accuracy:0.9533333333333334\n"
     ]
    }
   ],
   "source": [
    "#评估指标选择准确率\n",
    "def accuracy(y_true,y_pred):\n",
    "    return np.mean(y_true==y_pred)\n",
    "train_X=train_df.drop(['Species'],axis=1).values\n",
    "train_y=train_df['Species'].values\n",
    "model=KNNClassifier(n_neighbors=5)\n",
    "model.fit(train_X,train_y)\n",
    "train_pred=model.predict(train_X)\n",
    "print(f\"train_accuracy:{accuracy(train_y,train_pred)}\")"
   ]
  }
 ],
 "metadata": {
  "kaggle": {
   "accelerator": "none",
   "dataSources": [
    {
     "datasetId": 19,
     "sourceId": 420,
     "sourceType": "datasetVersion"
    }
   ],
   "dockerImageVersionId": 30664,
   "isGpuEnabled": false,
   "isInternetEnabled": true,
   "language": "python",
   "sourceType": "notebook"
  },
  "kernelspec": {
   "display_name": "Python 3 (ipykernel)",
   "language": "python",
   "name": "python3"
  },
  "language_info": {
   "codemirror_mode": {
    "name": "ipython",
    "version": 3
   },
   "file_extension": ".py",
   "mimetype": "text/x-python",
   "name": "python",
   "nbconvert_exporter": "python",
   "pygments_lexer": "ipython3",
   "version": "3.8.5"
  },
  "papermill": {
   "default_parameters": {},
   "duration": 4.801503,
   "end_time": "2024-03-19T11:11:51.869050",
   "environment_variables": {},
   "exception": null,
   "input_path": "__notebook__.ipynb",
   "output_path": "__notebook__.ipynb",
   "parameters": {},
   "start_time": "2024-03-19T11:11:47.067547",
   "version": "2.5.0"
  }
 },
 "nbformat": 4,
 "nbformat_minor": 5
}
