{
 "cells": [
  {
   "cell_type": "markdown",
   "id": "6099c311",
   "metadata": {
    "papermill": {
     "duration": 0.004332,
     "end_time": "2024-03-12T03:18:10.711497",
     "exception": false,
     "start_time": "2024-03-12T03:18:10.707165",
     "status": "completed"
    },
    "tags": []
   },
   "source": [
    "## Created by yunsuxiaozi 2024/3/12\n",
    "### 这里将实现SM3密码杂凑算法.关于算法的详细介绍可以看PDF,我这里也是看PDF慢慢写出来的,并且用后面的测试样例来测试,能通过就基本没有问题了.SM3算法和SHA256算法大体的步骤非常类似,在实现的细节上不同.\n",
    "\n",
    "### 无法连接到github可以尝试这个命令:  cmd:  ipconfig /flushdns\n",
    "\n",
    "### 本地的代码上传到github后删除掉,需要 git reset +git checkout .这两个命令将仓库的文件下载到本地后再git add新的文件,commit(修改信息) push(上传)."
   ]
  },
  {
   "cell_type": "markdown",
   "id": "91a5b200",
   "metadata": {
    "papermill": {
     "duration": 0.003298,
     "end_time": "2024-03-12T03:18:10.718685",
     "exception": false,
     "start_time": "2024-03-12T03:18:10.715387",
     "status": "completed"
    },
    "tags": []
   },
   "source": [
    "#### 这是循环左移的函数"
   ]
  },
  {
   "cell_type": "code",
   "execution_count": 1,
   "id": "929fe116",
   "metadata": {
    "execution": {
     "iopub.execute_input": "2024-03-12T03:18:10.728661Z",
     "iopub.status.busy": "2024-03-12T03:18:10.727690Z",
     "iopub.status.idle": "2024-03-12T03:18:10.743471Z",
     "shell.execute_reply": "2024-03-12T03:18:10.742471Z"
    },
    "papermill": {
     "duration": 0.024332,
     "end_time": "2024-03-12T03:18:10.746448",
     "exception": false,
     "start_time": "2024-03-12T03:18:10.722116",
     "status": "completed"
    },
    "tags": []
   },
   "outputs": [],
   "source": [
    "\"\"\"\n",
    "^(按位与)的python符号是&.\n",
    "√(按位或)的python符号是|\n",
    "⊕(异或)的python符号是^.\n",
    "\"\"\"\n",
    "inf=0xFFFFFFFF#32位无符号整数的最大值(2^32-1)\n",
    "#循环左移  x=[a1,a2,……,a32] \n",
    "def ROTL(x, n):\n",
    "    x=x&inf#如果输入的数据太大,会限制到2^32-1的范围内.\n",
    "    n=n%32#如果n>32,则限制到32以内的范围.\n",
    "    #x=[a1,a2,……,a32]  则x>>(32-n) =[0,0,……,0,a1,a2,……,an] \n",
    "    #x<<(n) =[an+1,……a32,0,0,……,0]\n",
    "    x = ((x << n) | (x >> (32 - n)))&inf\n",
    "    return x"
   ]
  },
  {
   "cell_type": "markdown",
   "id": "d0d52b54",
   "metadata": {
    "papermill": {
     "duration": 0.003368,
     "end_time": "2024-03-12T03:18:10.753650",
     "exception": false,
     "start_time": "2024-03-12T03:18:10.750282",
     "status": "completed"
    },
    "tags": []
   },
   "source": [
    "#### 这是根据PDF实现的,我也不知道算法是怎么设计出来的,同时这个算法和sha256算法非常类似,如果有需要可以看看sha256算法中我对算法的理解.这个算法我是昨天晚上花了2个小时写出来的,也没有像sha256算法思考的那么久."
   ]
  },
  {
   "cell_type": "code",
   "execution_count": 2,
   "id": "1354317c",
   "metadata": {
    "execution": {
     "iopub.execute_input": "2024-03-12T03:18:10.763543Z",
     "iopub.status.busy": "2024-03-12T03:18:10.762796Z",
     "iopub.status.idle": "2024-03-12T03:18:10.792815Z",
     "shell.execute_reply": "2024-03-12T03:18:10.791286Z"
    },
    "papermill": {
     "duration": 0.038966,
     "end_time": "2024-03-12T03:18:10.796206",
     "exception": false,
     "start_time": "2024-03-12T03:18:10.757240",
     "status": "completed"
    },
    "tags": []
   },
   "outputs": [],
   "source": [
    "def FF(j,X,Y,Z):\n",
    "    X,Y,Z=(X&inf),(Y&inf),(Z&inf)\n",
    "    if j<16:\n",
    "        return (X^Y^Z &inf)\n",
    "    else:\n",
    "        return ((X  & Y)|( X & Z)|(Y&Z)&inf)\n",
    "\n",
    "def GG(j,X,Y,Z):\n",
    "    X,Y,Z=(X&inf),(Y&inf),(Z&inf)\n",
    "    if j<16:\n",
    "        return (X^Y^Z&inf)\n",
    "    else:\n",
    "        return ((X  & Y)|(~X & Z)&inf)\n",
    "\n",
    "def P0(X):\n",
    "    X=X&inf\n",
    "    return ((X^ROTL(X,9)&inf)^ROTL(X,17))&inf\n",
    "def P1(X):\n",
    "    X=X&inf\n",
    "    return ((X^ROTL(X,15)&inf)^ROTL(X,23))&inf\n",
    "\n",
    "def SM3(origin_str='helloworld'):\n",
    "    V=[0x7380166f,0x4914b2b9,0x172442d7,0xda8a0600,0xa96f30bc,0x163138aa,0xe38dee4d,0xb0fb0e4e]\n",
    "    T=[0x79cc4519 if j<16 else 0x7a879d8a for j in range(0,64)]\n",
    "    #utf-8 能够表示世界上几乎所有的字符系统,无论原始字符串是什么,都能够得到一个统一的二进制表示.\n",
    "    binaries = origin_str.encode('utf8')\n",
    "    \"\"\"\n",
    "    \\x80(16进制)=128(10进制)=1000 0000(2进制,8位)\n",
    "    b'\\x00'=00000000(2进制 8位)\n",
    "    len(binaries)是字节串的长度,即有多少字节,*8是每个字节由8位组成,转换成位长度\n",
    "    to_bytes(8)转换成8字节或者说64位的字节串.byteorder='big'是大端字节序(就是从头到尾存储).\n",
    "\n",
    "    位长度: len(binaries)*8+8位+8位*(64-len(binaries)-1-8)+64位=512.\n",
    "\n",
    "    \"\"\"\n",
    "    churks=1#M是512的多少倍\n",
    "\n",
    "    while 64*churks-len(binaries)-9<0:\n",
    "        churks+=1\n",
    "    #M是512的整数倍\n",
    "    M = binaries + b'\\x80' + b'\\x00'*(64*churks-len(binaries)-1-8) + (len(binaries)<<3).to_bytes(8, byteorder='big')\n",
    "\n",
    "    for churk in range(churks):\n",
    "        M_copy=M[churk*64:(churk+1)*64]\n",
    "        W=[0]*68\n",
    "        W1=[0]*64\n",
    "        #W[0]~W[15] 这里已经把 这个churk的二进制转成整数\n",
    "        for j in range(0, 16):\n",
    "            W[j] = M_copy[j*4:(j+1)*4]#4*8=32位长度.\n",
    "            #W[t]转成16进制再转成10进制.\n",
    "            W[j] = int(W[j].hex(), 16)#2^32的整数.\n",
    "        for j in range(16,68):\n",
    "            W[j]=(P1( W[j-16] ^ W[j-9] ^ROTL(W[j-3],15)) )  ^ROTL(W[j-13],7)^(W[j-6]&inf)\n",
    "              \n",
    "        for j in range(0,64):\n",
    "            W1[j]=(W[j]^W[j+4])&inf\n",
    "    \n",
    "        a,b,c,d,e,f,g,h=V\n",
    "        for j in range(64):#\n",
    "            SS1=(   ROTL( ( ROTL(a,12)+e+ROTL(T[j],j))&inf  ,7)    ) &inf\n",
    "            SS2=(SS1^ROTL(a,12))&inf\n",
    "            TT1=(FF(j,a,b,c)+d+SS2+W1[j])&inf\n",
    "            TT2=(GG(j,e,f,g)+h+SS1+W[j])&inf\n",
    "            d=c\n",
    "            c=ROTL(b,9)\n",
    "            b=a\n",
    "            a=TT1\n",
    "            h=g\n",
    "            g=ROTL(f,19)\n",
    "            f=e\n",
    "            e=P0(TT2)\n",
    "            #print(f\"j:{j},a:{hex(a)},b:{hex(b)},c:{hex(c)},d:{hex(d)},e:{hex(e)},f:{hex(f)},g:{hex(g)},h:{hex(h)}\")\n",
    "        V[0]=a^V[0]&inf\n",
    "        V[1]=b^V[1]&inf\n",
    "        V[2]=c^V[2]&inf\n",
    "        V[3]=d^V[3]&inf\n",
    "        V[4]=e^V[4]&inf\n",
    "        V[5]=f^V[5]&inf\n",
    "        V[6]=g^V[6]&inf\n",
    "        V[7]=h^V[7]&inf\n",
    "            \n",
    "    SM3 = ''\n",
    "    for idx  in  range(len(V)):\n",
    "        #将整数转换成4个字节(4*8=32位)的二进制数据,然后再转成十六进制数据(hex)\n",
    "        SM3 = SM3+ V[idx].to_bytes(4, byteorder='big').hex()\n",
    "    return SM3"
   ]
  },
  {
   "cell_type": "markdown",
   "id": "06b4634a",
   "metadata": {
    "papermill": {
     "duration": 0.003513,
     "end_time": "2024-03-12T03:18:10.803905",
     "exception": false,
     "start_time": "2024-03-12T03:18:10.800392",
     "status": "completed"
    },
    "tags": []
   },
   "source": [
    "#### SM3是我国实现的算法,接下来我们来看看手写的算法对比python标准库的准确率."
   ]
  },
  {
   "cell_type": "code",
   "execution_count": 3,
   "id": "7a271aa0",
   "metadata": {
    "execution": {
     "iopub.execute_input": "2024-03-12T03:18:10.813949Z",
     "iopub.status.busy": "2024-03-12T03:18:10.813445Z",
     "iopub.status.idle": "2024-03-12T03:18:30.107239Z",
     "shell.execute_reply": "2024-03-12T03:18:30.104998Z"
    },
    "papermill": {
     "duration": 19.303449,
     "end_time": "2024-03-12T03:18:30.111259",
     "exception": false,
     "start_time": "2024-03-12T03:18:10.807810",
     "status": "completed"
    },
    "tags": []
   },
   "outputs": [],
   "source": [
    "#!pip install是安装python库 -q:减少输出信息,gmssl是密码工具库,支持中国的国家商用密码（国密）算法.\n",
    "!pip install -q gmssl"
   ]
  },
  {
   "cell_type": "code",
   "execution_count": 4,
   "id": "04bf8c8c",
   "metadata": {
    "execution": {
     "iopub.execute_input": "2024-03-12T03:18:30.122203Z",
     "iopub.status.busy": "2024-03-12T03:18:30.121696Z",
     "iopub.status.idle": "2024-03-12T03:19:50.681592Z",
     "shell.execute_reply": "2024-03-12T03:19:50.680073Z"
    },
    "papermill": {
     "duration": 80.572482,
     "end_time": "2024-03-12T03:19:50.687889",
     "exception": false,
     "start_time": "2024-03-12T03:18:30.115407",
     "status": "completed"
    },
    "tags": []
   },
   "outputs": [
    {
     "name": "stdout",
     "output_type": "stream",
     "text": [
      "accuracy:1.0\n"
     ]
    }
   ],
   "source": [
    "from gmssl import sm3, func\n",
    "\n",
    "import random#用于生成随机数的库\n",
    "seed=2024\n",
    "random.seed(seed)\n",
    "num_string=10000\n",
    "char_num=\"abcdefghijklmnopqrstuvwxyz0123456789\"#可供选择的字符是a~z加上数字\n",
    "random_strings = []#存储随机生成的字符串\n",
    "for _ in range(num_string):\n",
    "    str_len = random.randint(10, 500)  #生成长度为10到500的字符\n",
    "    random_string = ''.join(random.choices(char_num, k=str_len))\n",
    "    random_strings.append(random_string)\n",
    "    \n",
    "true_cnt=0#手写算法正确的个数\n",
    "for idx in range(num_string):\n",
    "    origin_str=random_strings[idx]\n",
    "    if SM3(origin_str) == sm3.sm3_hash(func.bytes_to_list(origin_str.encode('utf8'))):\n",
    "        true_cnt+=1\n",
    "print(f\"accuracy:{true_cnt/num_string}\")"
   ]
  }
 ],
 "metadata": {
  "kaggle": {
   "accelerator": "none",
   "dataSources": [
    {
     "datasetId": 4477849,
     "sourceId": 7676268,
     "sourceType": "datasetVersion"
    }
   ],
   "dockerImageVersionId": 30664,
   "isGpuEnabled": false,
   "isInternetEnabled": true,
   "language": "python",
   "sourceType": "notebook"
  },
  "kernelspec": {
   "display_name": "Python 3",
   "language": "python",
   "name": "python3"
  },
  "language_info": {
   "codemirror_mode": {
    "name": "ipython",
    "version": 3
   },
   "file_extension": ".py",
   "mimetype": "text/x-python",
   "name": "python",
   "nbconvert_exporter": "python",
   "pygments_lexer": "ipython3",
   "version": "3.10.13"
  },
  "papermill": {
   "default_parameters": {},
   "duration": 104.200312,
   "end_time": "2024-03-12T03:19:51.314207",
   "environment_variables": {},
   "exception": null,
   "input_path": "__notebook__.ipynb",
   "output_path": "__notebook__.ipynb",
   "parameters": {},
   "start_time": "2024-03-12T03:18:07.113895",
   "version": "2.5.0"
  }
 },
 "nbformat": 4,
 "nbformat_minor": 5
}
