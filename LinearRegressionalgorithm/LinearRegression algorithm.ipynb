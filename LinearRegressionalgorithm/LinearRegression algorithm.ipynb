{
 "cells": [
  {
   "cell_type": "markdown",
   "id": "230b3ab0",
   "metadata": {
    "papermill": {
     "duration": 0.00528,
     "end_time": "2024-03-24T01:50:47.067503",
     "exception": false,
     "start_time": "2024-03-24T01:50:47.062223",
     "status": "completed"
    },
    "tags": []
   },
   "source": [
    "## Created by yunsuxiaozi 2024/3/24\n",
    "\n",
    "### 相信对于大多数接触机器学习算法的人来说,线性回归算法应该是第一个接触的。\n",
    "\n",
    "### 线性回归是最简单的算法,但是并不代表它很差。在Kaggle最近举办的<a href=\"https://www.kaggle.com/competitions/home-credit-credit-risk-model-stability\">Home Credit - Credit Risk Model Stability</a> 比赛中,我使用线性回归打败了大约40%的选手。<a href=\"https://www.kaggle.com/code/yunsuxiaozi/home-credit-linearregression-is-all-you-need\">Home Credit LinearRegression is all you need.</a> 所以在这里,我将介绍一下线性回归算法的数学原理以及代码实现,并用一个数据集来比较我的算法和sklearn库的算法.\n",
    "\n",
    "### 线性回归就是$\\hat{y}=XW+b$.其中$\\hat{y}$是预测值,y是真实值.\n",
    "\n",
    "### 我们先来说明一下公式中出现的字母:\n",
    "\n",
    "- X:这是数据的特征.shape:(len(dataset),len(features))\n",
    "\n",
    "- y:这是需要预测的target.shape:(len(dataset),y.shape[1]),其中y.shape[1]一般为1.\n",
    "\n",
    "- W:是线性回归算法中X里每个特征的权重.shape:(len(features),y.shape[1]).\n",
    "\n",
    "- b:是线性回归的偏置.shape:(1,y.shape[1]).\n",
    "\n",
    "### 关于线性回归,如果数据量太小,或者说矩阵很小,可以用公式直接求解,想看公式推导可以看我以前写的文章<a href=\"https://zhuanlan.zhihu.com/p/581284145\">n维线性回归模型</a>。如果数据量太大,公式求解就显得不现实了,一方面公式中有矩阵求逆这个(On^3)的步骤,时间上不划算,另一方面如何存储这么大的矩阵也是个问题.这时就需要用迭代的方式来求解了.\n",
    "\n",
    "### 回归任务中常用的损失函数是$MSE=\\frac{(\\hat{y}-y)^2}{n}=\\frac{(XW+b-y)^2}{n}$,我们的目的就是让MSE最小.这里使用的迭代算法就是梯度下降法.此处梯度是高数的内容,在一元函数里就是导数.\n",
    "\n",
    "### 这里举个例子:$MSE=x^2$,我们随便设置一个初始点$x=1$,我们想到达最低点$x=0$,此处的导数为$2x=2$.如果往正方向走两步明显是往高处走,所以我们应该往导数的反方向走。如果我们往负数方向走长度2,会到达-1,此时已经经过最低点了,所以我们还需要控制步长,比如在导数前面乘一个$\\frac{1}{2}$,让它往负数方向走长度1,这样才能到达最低点0.这个控制步长的$\\frac{1}{2}$被叫做学习率.从初始位置每次沿着导数反方向走一定的距离最终到达最低点附近的方法就是梯度下降法.\n",
    "\n",
    "\n",
    "### 在线性回归的损失函数$MSE=\\frac{(XW+b-y)^2}{n}$中,X和y是训练数据和标签,这些是固定的,n是数据的数量,也是确定的.真正的参数是$W,b$,我们需要做的是对它们求偏导.\n",
    "\n",
    "### $MSE'_W=\\frac{1}{n}(2WXX+2Xb-2yX)=\\frac{1}{n}(2X(WX+b-y))=\\frac{1}{n}(2X(\\hat{y}-y))$\n",
    "\n",
    "### $MSE'_b=\\frac{1}{n}(2XW+2b-2y)=\\frac{2}{n}(\\hat{y}-y)$\n",
    "\n",
    "### 梯度下降法的迭代公式就是$W=W-lr*(\\frac{1}{n})(2X(\\hat{y}-y),b=b-lr*\\frac{2}{n}(\\hat{y}-y)$\n",
    "\n",
    "### 注:笔者不是数学专业的学生,对公式细节方面可能不会特别重视,矩阵的转置包括矩阵的先后顺序在公式里没有管。\n",
    "\n",
    "### 至于算法实现方面,由于我们考虑到矩阵可能会很大,需要将数据集分批次进行训练,比如我有一百万数据,我一次用1万数据进行迭代,迭代100次完成一个epoch.\n",
    "\n",
    "### 下面我们用一个数据集来实战一下吧:<a href=\"https://www.kaggle.com/datasets/parasharmanas/world-press-freedom-index-2023-trends\">World Press Freedom Index 2023 Trends</a>.这个数据集是我一年前学习线性回归的时候使用的,那时还是2022年版.下面将使用这个数据集来对我的算法和python开源的算法进行比较。"
   ]
  },
  {
   "cell_type": "markdown",
   "id": "2aaadc99",
   "metadata": {
    "papermill": {
     "duration": 0.004328,
     "end_time": "2024-03-24T01:50:47.076963",
     "exception": false,
     "start_time": "2024-03-24T01:50:47.072635",
     "status": "completed"
    },
    "tags": []
   },
   "source": [
    "#### 导入一些python库并固定随机种子"
   ]
  },
  {
   "cell_type": "code",
   "execution_count": 1,
   "id": "5df6edc8",
   "metadata": {
    "_cell_guid": "b1076dfc-b9ad-4769-8c92-a6c4dae69d19",
    "_uuid": "8f2839f25d086af736a60e9eeb907d3b93b6e0e5",
    "execution": {
     "iopub.execute_input": "2024-03-24T01:50:47.089030Z",
     "iopub.status.busy": "2024-03-24T01:50:47.088054Z",
     "iopub.status.idle": "2024-03-24T01:50:48.257006Z",
     "shell.execute_reply": "2024-03-24T01:50:48.255375Z"
    },
    "papermill": {
     "duration": 1.178366,
     "end_time": "2024-03-24T01:50:48.259963",
     "exception": false,
     "start_time": "2024-03-24T01:50:47.081597",
     "status": "completed"
    },
    "tags": []
   },
   "outputs": [],
   "source": [
    "import pandas as pd#处理表格数据的库\n",
    "import numpy as np#进行矩阵运算的库\n",
    "import random#提供了一些用于生成随机数的函数\n",
    "#设置随机种子,保证模型可以复现\n",
    "def seed_everything(seed):\n",
    "    np.random.seed(seed)#numpy的随机种子\n",
    "    random.seed(seed)#python内置的随机种子\n",
    "seed_everything(seed=2024)"
   ]
  },
  {
   "cell_type": "markdown",
   "id": "1e33db88",
   "metadata": {
    "papermill": {
     "duration": 0.004468,
     "end_time": "2024-03-24T01:50:48.269375",
     "exception": false,
     "start_time": "2024-03-24T01:50:48.264907",
     "status": "completed"
    },
    "tags": []
   },
   "source": [
    "#### 导入数据集."
   ]
  },
  {
   "cell_type": "code",
   "execution_count": 2,
   "id": "e8d1ad4e",
   "metadata": {
    "execution": {
     "iopub.execute_input": "2024-03-24T01:50:48.281362Z",
     "iopub.status.busy": "2024-03-24T01:50:48.280642Z",
     "iopub.status.idle": "2024-03-24T01:50:48.345827Z",
     "shell.execute_reply": "2024-03-24T01:50:48.344246Z"
    },
    "papermill": {
     "duration": 0.074265,
     "end_time": "2024-03-24T01:50:48.348384",
     "exception": false,
     "start_time": "2024-03-24T01:50:48.274119",
     "status": "completed"
    },
    "tags": []
   },
   "outputs": [
    {
     "name": "stdout",
     "output_type": "stream",
     "text": [
      "len(dataset):180\n"
     ]
    },
    {
     "data": {
      "text/html": [
       "<div>\n",
       "<style scoped>\n",
       "    .dataframe tbody tr th:only-of-type {\n",
       "        vertical-align: middle;\n",
       "    }\n",
       "\n",
       "    .dataframe tbody tr th {\n",
       "        vertical-align: top;\n",
       "    }\n",
       "\n",
       "    .dataframe thead th {\n",
       "        text-align: right;\n",
       "    }\n",
       "</style>\n",
       "<table border=\"1\" class=\"dataframe\">\n",
       "  <thead>\n",
       "    <tr style=\"text-align: right;\">\n",
       "      <th></th>\n",
       "      <th>Ranking</th>\n",
       "      <th>Country</th>\n",
       "      <th>Score</th>\n",
       "      <th>Political Context</th>\n",
       "      <th>Economic Context</th>\n",
       "      <th>Legal Framework</th>\n",
       "      <th>Safety Score</th>\n",
       "      <th>Sociocultural Context</th>\n",
       "      <th>Difference In Position From 2022</th>\n",
       "    </tr>\n",
       "  </thead>\n",
       "  <tbody>\n",
       "    <tr>\n",
       "      <th>0</th>\n",
       "      <td>1</td>\n",
       "      <td>Norway</td>\n",
       "      <td>95.18</td>\n",
       "      <td>96.54</td>\n",
       "      <td>92.46</td>\n",
       "      <td>94.92</td>\n",
       "      <td>95.98</td>\n",
       "      <td>95.98</td>\n",
       "      <td>0</td>\n",
       "    </tr>\n",
       "    <tr>\n",
       "      <th>1</th>\n",
       "      <td>2</td>\n",
       "      <td>Ireland</td>\n",
       "      <td>89.91</td>\n",
       "      <td>93.91</td>\n",
       "      <td>82.11</td>\n",
       "      <td>82.55</td>\n",
       "      <td>96.94</td>\n",
       "      <td>94.03</td>\n",
       "      <td>4</td>\n",
       "    </tr>\n",
       "    <tr>\n",
       "      <th>2</th>\n",
       "      <td>3</td>\n",
       "      <td>Denmark</td>\n",
       "      <td>89.48</td>\n",
       "      <td>91.95</td>\n",
       "      <td>85.17</td>\n",
       "      <td>87.50</td>\n",
       "      <td>95.00</td>\n",
       "      <td>87.78</td>\n",
       "      <td>-1</td>\n",
       "    </tr>\n",
       "    <tr>\n",
       "      <th>3</th>\n",
       "      <td>4</td>\n",
       "      <td>Sweden</td>\n",
       "      <td>88.15</td>\n",
       "      <td>92.58</td>\n",
       "      <td>86.08</td>\n",
       "      <td>88.74</td>\n",
       "      <td>84.72</td>\n",
       "      <td>88.64</td>\n",
       "      <td>-1</td>\n",
       "    </tr>\n",
       "    <tr>\n",
       "      <th>4</th>\n",
       "      <td>5</td>\n",
       "      <td>Finland</td>\n",
       "      <td>87.94</td>\n",
       "      <td>91.55</td>\n",
       "      <td>83.80</td>\n",
       "      <td>84.86</td>\n",
       "      <td>90.35</td>\n",
       "      <td>89.17</td>\n",
       "      <td>0</td>\n",
       "    </tr>\n",
       "  </tbody>\n",
       "</table>\n",
       "</div>"
      ],
      "text/plain": [
       "   Ranking  Country  Score  Political Context  Economic Context  \\\n",
       "0        1   Norway  95.18              96.54             92.46   \n",
       "1        2  Ireland  89.91              93.91             82.11   \n",
       "2        3  Denmark  89.48              91.95             85.17   \n",
       "3        4   Sweden  88.15              92.58             86.08   \n",
       "4        5  Finland  87.94              91.55             83.80   \n",
       "\n",
       "   Legal Framework  Safety Score  Sociocultural Context  \\\n",
       "0            94.92         95.98                  95.98   \n",
       "1            82.55         96.94                  94.03   \n",
       "2            87.50         95.00                  87.78   \n",
       "3            88.74         84.72                  88.64   \n",
       "4            84.86         90.35                  89.17   \n",
       "\n",
       "   Difference In Position From 2022  \n",
       "0                                 0  \n",
       "1                                 4  \n",
       "2                                -1  \n",
       "3                                -1  \n",
       "4                                 0  "
      ]
     },
     "execution_count": 2,
     "metadata": {},
     "output_type": "execute_result"
    }
   ],
   "source": [
    "dataset=pd.read_csv(\"./RSB_DataSet.csv\",encoding='gbk')\n",
    "print(f\"len(dataset):{len(dataset)}\")\n",
    "dataset.head()"
   ]
  },
  {
   "cell_type": "markdown",
   "id": "c653f0a8",
   "metadata": {
    "papermill": {
     "duration": 0.004858,
     "end_time": "2024-03-24T01:50:48.358370",
     "exception": false,
     "start_time": "2024-03-24T01:50:48.353512",
     "status": "completed"
    },
    "tags": []
   },
   "source": [
    "#### 我们看到中国在180个国家中位列倒数第2,仅次于朝鲜,可以说是遥遥领先."
   ]
  },
  {
   "cell_type": "code",
   "execution_count": 3,
   "id": "78936c29",
   "metadata": {
    "execution": {
     "iopub.execute_input": "2024-03-24T01:50:48.371123Z",
     "iopub.status.busy": "2024-03-24T01:50:48.370628Z",
     "iopub.status.idle": "2024-03-24T01:50:48.390469Z",
     "shell.execute_reply": "2024-03-24T01:50:48.388744Z"
    },
    "papermill": {
     "duration": 0.029613,
     "end_time": "2024-03-24T01:50:48.393256",
     "exception": false,
     "start_time": "2024-03-24T01:50:48.363643",
     "status": "completed"
    },
    "tags": []
   },
   "outputs": [
    {
     "data": {
      "text/html": [
       "<div>\n",
       "<style scoped>\n",
       "    .dataframe tbody tr th:only-of-type {\n",
       "        vertical-align: middle;\n",
       "    }\n",
       "\n",
       "    .dataframe tbody tr th {\n",
       "        vertical-align: top;\n",
       "    }\n",
       "\n",
       "    .dataframe thead th {\n",
       "        text-align: right;\n",
       "    }\n",
       "</style>\n",
       "<table border=\"1\" class=\"dataframe\">\n",
       "  <thead>\n",
       "    <tr style=\"text-align: right;\">\n",
       "      <th></th>\n",
       "      <th>Ranking</th>\n",
       "      <th>Country</th>\n",
       "      <th>Score</th>\n",
       "      <th>Political Context</th>\n",
       "      <th>Economic Context</th>\n",
       "      <th>Legal Framework</th>\n",
       "      <th>Safety Score</th>\n",
       "      <th>Sociocultural Context</th>\n",
       "      <th>Difference In Position From 2022</th>\n",
       "    </tr>\n",
       "  </thead>\n",
       "  <tbody>\n",
       "    <tr>\n",
       "      <th>175</th>\n",
       "      <td>176</td>\n",
       "      <td>Turkmenistan</td>\n",
       "      <td>25.82</td>\n",
       "      <td>23.25</td>\n",
       "      <td>20.39</td>\n",
       "      <td>29.62</td>\n",
       "      <td>46.53</td>\n",
       "      <td>9.32</td>\n",
       "      <td>1</td>\n",
       "    </tr>\n",
       "    <tr>\n",
       "      <th>176</th>\n",
       "      <td>177</td>\n",
       "      <td>Iran</td>\n",
       "      <td>24.81</td>\n",
       "      <td>33.67</td>\n",
       "      <td>30.51</td>\n",
       "      <td>20.17</td>\n",
       "      <td>23.62</td>\n",
       "      <td>16.06</td>\n",
       "      <td>1</td>\n",
       "    </tr>\n",
       "    <tr>\n",
       "      <th>177</th>\n",
       "      <td>178</td>\n",
       "      <td>Vietnam</td>\n",
       "      <td>24.58</td>\n",
       "      <td>23.75</td>\n",
       "      <td>17.16</td>\n",
       "      <td>18.40</td>\n",
       "      <td>30.66</td>\n",
       "      <td>32.95</td>\n",
       "      <td>-4</td>\n",
       "    </tr>\n",
       "    <tr>\n",
       "      <th>178</th>\n",
       "      <td>179</td>\n",
       "      <td>China</td>\n",
       "      <td>22.97</td>\n",
       "      <td>26.06</td>\n",
       "      <td>29.51</td>\n",
       "      <td>17.36</td>\n",
       "      <td>24.87</td>\n",
       "      <td>17.07</td>\n",
       "      <td>-4</td>\n",
       "    </tr>\n",
       "    <tr>\n",
       "      <th>179</th>\n",
       "      <td>180</td>\n",
       "      <td>North Korea</td>\n",
       "      <td>21.72</td>\n",
       "      <td>26.56</td>\n",
       "      <td>21.57</td>\n",
       "      <td>22.64</td>\n",
       "      <td>33.25</td>\n",
       "      <td>4.60</td>\n",
       "      <td>0</td>\n",
       "    </tr>\n",
       "  </tbody>\n",
       "</table>\n",
       "</div>"
      ],
      "text/plain": [
       "     Ranking       Country  Score  Political Context  Economic Context  \\\n",
       "175      176  Turkmenistan  25.82              23.25             20.39   \n",
       "176      177          Iran  24.81              33.67             30.51   \n",
       "177      178       Vietnam  24.58              23.75             17.16   \n",
       "178      179         China  22.97              26.06             29.51   \n",
       "179      180   North Korea  21.72              26.56             21.57   \n",
       "\n",
       "     Legal Framework  Safety Score  Sociocultural Context  \\\n",
       "175            29.62         46.53                   9.32   \n",
       "176            20.17         23.62                  16.06   \n",
       "177            18.40         30.66                  32.95   \n",
       "178            17.36         24.87                  17.07   \n",
       "179            22.64         33.25                   4.60   \n",
       "\n",
       "     Difference In Position From 2022  \n",
       "175                                 1  \n",
       "176                                 1  \n",
       "177                                -4  \n",
       "178                                -4  \n",
       "179                                 0  "
      ]
     },
     "execution_count": 3,
     "metadata": {},
     "output_type": "execute_result"
    }
   ],
   "source": [
    "dataset.tail()"
   ]
  },
  {
   "cell_type": "markdown",
   "id": "6ac41052",
   "metadata": {
    "papermill": {
     "duration": 0.005384,
     "end_time": "2024-03-24T01:50:48.404456",
     "exception": false,
     "start_time": "2024-03-24T01:50:48.399072",
     "status": "completed"
    },
    "tags": []
   },
   "source": [
    "#### 这里是我手动实现的线性回归算法。"
   ]
  },
  {
   "cell_type": "code",
   "execution_count": 4,
   "id": "edd61349",
   "metadata": {
    "execution": {
     "iopub.execute_input": "2024-03-24T01:50:48.418578Z",
     "iopub.status.busy": "2024-03-24T01:50:48.418033Z",
     "iopub.status.idle": "2024-03-24T01:50:48.442648Z",
     "shell.execute_reply": "2024-03-24T01:50:48.441379Z"
    },
    "papermill": {
     "duration": 0.035189,
     "end_time": "2024-03-24T01:50:48.445710",
     "exception": false,
     "start_time": "2024-03-24T01:50:48.410521",
     "status": "completed"
    },
    "tags": []
   },
   "outputs": [],
   "source": [
    "class LinearRegression():\n",
    "    def __init__(self,n_iterators=500,batch_size=100000,lr=0.02,metric='MSE'):\n",
    "        self.n_iterators=n_iterators#迭代多少次\n",
    "        self.batch_size=batch_size#用迭代算法每次传入的批次数量\n",
    "        self.lr=lr#学习率\n",
    "        self.metric=metric#用什么评估指标来评估模型的效果\n",
    "        self.mean=0.0#均值\n",
    "        self.std=1.0#方差\n",
    "        \n",
    "    def fit(self,train_X,train_y,is_standardization=True):\n",
    "        \"\"\"\n",
    "        train_X.shape:(num_data,num_features)\n",
    "        train_y.shape:(num_data,y.shape[1])\n",
    "        self.W.shape:(num_features,y.shape[1])\n",
    "        self.b.shape:(1,y.shape[1])\n",
    "        \"\"\"\n",
    "        if len(train_y.shape)==1:\n",
    "            train_y=train_y.reshape(-1,1)\n",
    "        self.W=np.random.randn(train_X.shape[1],train_y.shape[1])\n",
    "        self.b=np.random.randn(1,train_y.shape[1])\n",
    "        if is_standardization:#如果对数据进行标准化的话,求出均值和方差\n",
    "            self.mean=train_X.mean(axis=0)\n",
    "            self.std=train_X.std(axis=0)\n",
    "        train_X=(train_X-self.mean)/self.std\n",
    "        for iterator in range(self.n_iterators):  \n",
    "            random_number=np.arange(len(train_X))\n",
    "            np.random.shuffle(random_number)\n",
    "            train_X=train_X[random_number]\n",
    "            train_y=train_y[random_number]\n",
    "            losses=[]\n",
    "            for idx in range(0,len(train_X),self.batch_size):\n",
    "                train_X1=train_X[idx:idx+self.batch_size]\n",
    "                train_y1=train_y[idx:idx+self.batch_size]\n",
    "                train_pred=train_X1.dot(self.W)+self.b\n",
    "                loss=self.loss(train_y1,train_pred)\n",
    "                temp_b=np.tile(self.b,(train_X1.shape[0],1))\n",
    "                #更新参数\n",
    "                self.W=self.W-2*self.lr*(train_X1.T).dot(train_pred-train_y1)/len(train_X1)\n",
    "                self.b=self.b-2*self.lr*np.mean(train_pred-train_y1,axis=0)\n",
    "                losses.append(loss)\n",
    "            #print(f\"iterator:{iterator},loss:{np.mean(np.array(losses))}\")\n",
    "            \n",
    "    def predict(self,test_X):\n",
    "        test_X=(test_X-self.mean)/self.std\n",
    "        test_pred=np.zeros((len(test_X),self.b.shape[1]))\n",
    "        for idx in range(0,len(test_X),self.batch_size):\n",
    "            test_X1=test_X[idx:idx+self.batch_size]\n",
    "            test_pred[idx:idx+len(test_X1)]=test_X1.dot(self.W)+self.b\n",
    "        return test_pred.reshape(-1)\n",
    "    \n",
    "    def loss(self,y_true,y_pred):\n",
    "        if self.metric.lower()=='mse':\n",
    "            return self.MSE(y_true,y_pred)\n",
    "        elif self.metric.lower()=='rmse':\n",
    "            return self.RMSE(y_true,y_pred)\n",
    "        elif self.metric.lower()=='mae':\n",
    "            return self.MAE(y_true,y_pred)\n",
    "    def MSE(self,y_true,y_pred):\n",
    "        return np.mean((y_true-y_pred)**2)\n",
    "    def MAE(self,y_true,y_pred):\n",
    "        return np.mean(np.abs(y_true-y_pred))\n",
    "    def RMSE(self,y_true,y_pred):\n",
    "        return np.sqrt(np.mean((y_true-y_pred)**2))"
   ]
  },
  {
   "cell_type": "markdown",
   "id": "3a7f25f2",
   "metadata": {
    "papermill": {
     "duration": 0.005438,
     "end_time": "2024-03-24T01:50:48.456852",
     "exception": false,
     "start_time": "2024-03-24T01:50:48.451414",
     "status": "completed"
    },
    "tags": []
   },
   "source": [
    "#### 我们按照8:2的比例划分训练集和测试集,并用线性回归模型进行训练和预测,MSE约为0.05."
   ]
  },
  {
   "cell_type": "code",
   "execution_count": 5,
   "id": "6587325d",
   "metadata": {
    "execution": {
     "iopub.execute_input": "2024-03-24T01:50:48.470444Z",
     "iopub.status.busy": "2024-03-24T01:50:48.469971Z",
     "iopub.status.idle": "2024-03-24T01:50:48.553120Z",
     "shell.execute_reply": "2024-03-24T01:50:48.551477Z"
    },
    "papermill": {
     "duration": 0.094098,
     "end_time": "2024-03-24T01:50:48.556641",
     "exception": false,
     "start_time": "2024-03-24T01:50:48.462543",
     "status": "completed"
    },
    "tags": []
   },
   "outputs": [
    {
     "name": "stdout",
     "output_type": "stream",
     "text": [
      "MSE:0.056606730829491775,model.W:[[3.4523525 ]\n",
      " [3.16890065]\n",
      " [3.91554814]\n",
      " [4.60958612]\n",
      " [4.10433146]],model.b:[[58.61687492]]\n"
     ]
    }
   ],
   "source": [
    "X=dataset[['Political Context', 'Economic Context','Legal Framework', \n",
    "           'Safety Score', 'Sociocultural Context']].values\n",
    "y=dataset['Score'].values\n",
    "#划分训练集和测试集的函数\n",
    "def train_test_split(dataX,datay,shuffle=True,percentage=0.8):\n",
    "    \"\"\"\n",
    "    将训练数据X和标签y以numpy.array数组的形式传入\n",
    "    划分的比例定为训练集:测试集=8:2\n",
    "    \"\"\"\n",
    "    if shuffle:\n",
    "        random_num=[index for index in range(len(dataX))]\n",
    "        np.random.shuffle(random_num)\n",
    "        dataX=dataX[random_num]\n",
    "        datay=datay[random_num]\n",
    "    split_num=int(len(dataX)*percentage)\n",
    "    train_X=dataX[:split_num]\n",
    "    train_y=datay[:split_num]\n",
    "    test_X=dataX[split_num:]\n",
    "    test_y=datay[split_num:]\n",
    "    return train_X,train_y,test_X,test_y\n",
    "def MSE(y_true,y_pred):\n",
    "    return np.mean((y_true-y_pred)**2)\n",
    "train_X,train_y,test_X,test_y=train_test_split(X,y,shuffle=True,percentage=0.8)\n",
    "model=LinearRegression()\n",
    "model.fit(train_X,train_y)\n",
    "test_pred=model.predict(test_X)\n",
    "print(f\"MSE:{MSE(test_y,test_pred)},model.W:{model.W},model.b:{model.b}\")"
   ]
  },
  {
   "cell_type": "markdown",
   "id": "3f331597",
   "metadata": {
    "papermill": {
     "duration": 0.005596,
     "end_time": "2024-03-24T01:50:48.568314",
     "exception": false,
     "start_time": "2024-03-24T01:50:48.562718",
     "status": "completed"
    },
    "tags": []
   },
   "source": [
    "#### 接下来调用python的sklearn里的线性回归模型,我们可以看到MSE大约为0.05.我们可以看到两种算法效果还是差不多的.至于最后找到的参数不同是因为算法在实现细节上是不同的."
   ]
  },
  {
   "cell_type": "code",
   "execution_count": 6,
   "id": "d8734f9c",
   "metadata": {
    "execution": {
     "iopub.execute_input": "2024-03-24T01:50:48.582601Z",
     "iopub.status.busy": "2024-03-24T01:50:48.582190Z",
     "iopub.status.idle": "2024-03-24T01:50:50.429760Z",
     "shell.execute_reply": "2024-03-24T01:50:50.428514Z"
    },
    "papermill": {
     "duration": 1.858447,
     "end_time": "2024-03-24T01:50:50.432671",
     "exception": false,
     "start_time": "2024-03-24T01:50:48.574224",
     "status": "completed"
    },
    "tags": []
   },
   "outputs": [
    {
     "name": "stdout",
     "output_type": "stream",
     "text": [
      "MSE:0.05745845678339052,model.coef_:[0.20004491 0.19992727 0.19996543 0.20000271 0.20004921], model.intercept_:-0.0003447826392246611 \n"
     ]
    }
   ],
   "source": [
    "from sklearn.linear_model import LinearRegression\n",
    "model=LinearRegression()\n",
    "model.fit(train_X,train_y)\n",
    "test_pred=model.predict(test_X)\n",
    "print(f\"MSE:{MSE(test_y,test_pred)},model.coef_:{model.coef_}, model.intercept_:{model.intercept_} \")"
   ]
  },
  {
   "cell_type": "markdown",
   "id": "aace412d",
   "metadata": {
    "papermill": {
     "duration": 0.006028,
     "end_time": "2024-03-24T01:50:50.445003",
     "exception": false,
     "start_time": "2024-03-24T01:50:50.438975",
     "status": "completed"
    },
    "tags": []
   },
   "source": [
    "#### 如果你觉得我的notebook对你有用的话,请给我点个赞,谢谢.如果你对我的notebook有什么想法或者建议也欢迎提出来,以便于我更好的完善."
   ]
  }
 ],
 "metadata": {
  "kaggle": {
   "accelerator": "none",
   "dataSources": [
    {
     "datasetId": 3235463,
     "sourceId": 5627136,
     "sourceType": "datasetVersion"
    }
   ],
   "dockerImageVersionId": 30673,
   "isGpuEnabled": false,
   "isInternetEnabled": true,
   "language": "python",
   "sourceType": "notebook"
  },
  "kernelspec": {
   "display_name": "Python 3 (ipykernel)",
   "language": "python",
   "name": "python3"
  },
  "language_info": {
   "codemirror_mode": {
    "name": "ipython",
    "version": 3
   },
   "file_extension": ".py",
   "mimetype": "text/x-python",
   "name": "python",
   "nbconvert_exporter": "python",
   "pygments_lexer": "ipython3",
   "version": "3.8.5"
  },
  "papermill": {
   "default_parameters": {},
   "duration": 7.880429,
   "end_time": "2024-03-24T01:50:51.378433",
   "environment_variables": {},
   "exception": null,
   "input_path": "__notebook__.ipynb",
   "output_path": "__notebook__.ipynb",
   "parameters": {},
   "start_time": "2024-03-24T01:50:43.498004",
   "version": "2.5.0"
  }
 },
 "nbformat": 4,
 "nbformat_minor": 5
}
