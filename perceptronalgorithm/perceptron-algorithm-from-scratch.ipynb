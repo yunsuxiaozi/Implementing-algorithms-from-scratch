{
 "cells": [
  {
   "cell_type": "markdown",
   "id": "d003c2b7",
   "metadata": {
    "papermill": {
     "duration": 0.00323,
     "end_time": "2024-05-02T02:09:42.208412",
     "exception": false,
     "start_time": "2024-05-02T02:09:42.205182",
     "status": "completed"
    },
    "tags": []
   },
   "source": [
    "## Created by <a href=\"https://github.com/yunsuxiaozi\">yunsuxiaozi</a> 2024/5/2\n",
    "\n",
    "### 感知机算法说的简单点就是用线性回归做分类,比如做二分类任务,先给数据打上1和-1的标签,然后用线性回归来拟合,大于0的数据分为1这类,小于0的分为-1这类.关于线性回归的介绍可以看这篇文章<a href=\"https://www.kaggle.com/code/yunsuxiaozi/linear-regression-algorithm-from-scratch\">Linear Regression algorithm from scratch</a>\n",
    "\n",
    "### 这里选择的数据集是鸢尾花数据集<a href=\"https://www.kaggle.com/datasets/uciml/iris\">Iris</a>."
   ]
  },
  {
   "cell_type": "code",
   "execution_count": 1,
   "id": "71b9e51e",
   "metadata": {
    "execution": {
     "iopub.execute_input": "2024-05-02T02:09:42.216801Z",
     "iopub.status.busy": "2024-05-02T02:09:42.216300Z",
     "iopub.status.idle": "2024-05-02T02:09:43.096675Z",
     "shell.execute_reply": "2024-05-02T02:09:43.095734Z"
    },
    "papermill": {
     "duration": 0.887501,
     "end_time": "2024-05-02T02:09:43.099265",
     "exception": false,
     "start_time": "2024-05-02T02:09:42.211764",
     "status": "completed"
    },
    "tags": []
   },
   "outputs": [],
   "source": [
    "import pandas as pd#处理表格数据的库\n",
    "import numpy as np#进行矩阵运算的库\n",
    "import random#提供了一些用于生成随机数的函数\n",
    "#设置随机种子,保证模型可以复现\n",
    "def seed_everything(seed):\n",
    "    np.random.seed(seed)#numpy的随机种子\n",
    "    random.seed(seed)#python内置的随机种子\n",
    "seed_everything(seed=2024)"
   ]
  },
  {
   "cell_type": "code",
   "execution_count": 2,
   "id": "3064e48e",
   "metadata": {
    "execution": {
     "iopub.execute_input": "2024-05-02T02:09:43.107036Z",
     "iopub.status.busy": "2024-05-02T02:09:43.106180Z",
     "iopub.status.idle": "2024-05-02T02:09:43.157821Z",
     "shell.execute_reply": "2024-05-02T02:09:43.156831Z"
    },
    "papermill": {
     "duration": 0.058892,
     "end_time": "2024-05-02T02:09:43.161182",
     "exception": false,
     "start_time": "2024-05-02T02:09:43.102290",
     "status": "completed"
    },
    "tags": []
   },
   "outputs": [
    {
     "name": "stdout",
     "output_type": "stream",
     "text": [
      "len(dataset):150\n"
     ]
    },
    {
     "data": {
      "text/html": [
       "<div>\n",
       "<style scoped>\n",
       "    .dataframe tbody tr th:only-of-type {\n",
       "        vertical-align: middle;\n",
       "    }\n",
       "\n",
       "    .dataframe tbody tr th {\n",
       "        vertical-align: top;\n",
       "    }\n",
       "\n",
       "    .dataframe thead th {\n",
       "        text-align: right;\n",
       "    }\n",
       "</style>\n",
       "<table border=\"1\" class=\"dataframe\">\n",
       "  <thead>\n",
       "    <tr style=\"text-align: right;\">\n",
       "      <th></th>\n",
       "      <th>SepalLengthCm</th>\n",
       "      <th>SepalWidthCm</th>\n",
       "      <th>PetalLengthCm</th>\n",
       "      <th>PetalWidthCm</th>\n",
       "      <th>Species</th>\n",
       "    </tr>\n",
       "  </thead>\n",
       "  <tbody>\n",
       "    <tr>\n",
       "      <th>0</th>\n",
       "      <td>5.1</td>\n",
       "      <td>3.5</td>\n",
       "      <td>1.4</td>\n",
       "      <td>0.2</td>\n",
       "      <td>1</td>\n",
       "    </tr>\n",
       "    <tr>\n",
       "      <th>1</th>\n",
       "      <td>4.9</td>\n",
       "      <td>3.0</td>\n",
       "      <td>1.4</td>\n",
       "      <td>0.2</td>\n",
       "      <td>1</td>\n",
       "    </tr>\n",
       "    <tr>\n",
       "      <th>2</th>\n",
       "      <td>4.7</td>\n",
       "      <td>3.2</td>\n",
       "      <td>1.3</td>\n",
       "      <td>0.2</td>\n",
       "      <td>1</td>\n",
       "    </tr>\n",
       "    <tr>\n",
       "      <th>3</th>\n",
       "      <td>4.6</td>\n",
       "      <td>3.1</td>\n",
       "      <td>1.5</td>\n",
       "      <td>0.2</td>\n",
       "      <td>1</td>\n",
       "    </tr>\n",
       "    <tr>\n",
       "      <th>4</th>\n",
       "      <td>5.0</td>\n",
       "      <td>3.6</td>\n",
       "      <td>1.4</td>\n",
       "      <td>0.2</td>\n",
       "      <td>1</td>\n",
       "    </tr>\n",
       "  </tbody>\n",
       "</table>\n",
       "</div>"
      ],
      "text/plain": [
       "   SepalLengthCm  SepalWidthCm  PetalLengthCm  PetalWidthCm  Species\n",
       "0            5.1           3.5            1.4           0.2        1\n",
       "1            4.9           3.0            1.4           0.2        1\n",
       "2            4.7           3.2            1.3           0.2        1\n",
       "3            4.6           3.1            1.5           0.2        1\n",
       "4            5.0           3.6            1.4           0.2        1"
      ]
     },
     "execution_count": 2,
     "metadata": {},
     "output_type": "execute_result"
    }
   ],
   "source": [
    "dataset=pd.read_csv(\"/kaggle/input/iris/Iris.csv\")\n",
    "print(f\"len(dataset):{len(dataset)}\")\n",
    "dataset.drop(['Id'],axis=1,inplace=True)\n",
    "#将label打上1和-1的标签\n",
    "dataset['Species']=(dataset['Species']=='Iris-setosa').astype(int)*2-1\n",
    "dataset.head()"
   ]
  },
  {
   "cell_type": "code",
   "execution_count": 3,
   "id": "6c1d2009",
   "metadata": {
    "execution": {
     "iopub.execute_input": "2024-05-02T02:09:43.170407Z",
     "iopub.status.busy": "2024-05-02T02:09:43.169332Z",
     "iopub.status.idle": "2024-05-02T02:09:43.175055Z",
     "shell.execute_reply": "2024-05-02T02:09:43.174210Z"
    },
    "papermill": {
     "duration": 0.012474,
     "end_time": "2024-05-02T02:09:43.177255",
     "exception": false,
     "start_time": "2024-05-02T02:09:43.164781",
     "status": "completed"
    },
    "tags": []
   },
   "outputs": [],
   "source": [
    "X=dataset.drop(['Species'],axis=1).values\n",
    "y=dataset['Species'].values"
   ]
  },
  {
   "cell_type": "code",
   "execution_count": 4,
   "id": "45fc5453",
   "metadata": {
    "execution": {
     "iopub.execute_input": "2024-05-02T02:09:43.185940Z",
     "iopub.status.busy": "2024-05-02T02:09:43.185325Z",
     "iopub.status.idle": "2024-05-02T02:09:43.201754Z",
     "shell.execute_reply": "2024-05-02T02:09:43.200541Z"
    },
    "papermill": {
     "duration": 0.023837,
     "end_time": "2024-05-02T02:09:43.204570",
     "exception": false,
     "start_time": "2024-05-02T02:09:43.180733",
     "status": "completed"
    },
    "tags": []
   },
   "outputs": [],
   "source": [
    "class Perceptron():\n",
    "    def __init__(self,n_iterators=50,batch_size=100000,lr=0.01):\n",
    "        self.n_iterators=n_iterators#迭代多少次\n",
    "        self.batch_size=batch_size#用迭代算法每次传入的批次数量\n",
    "        self.lr=lr#学习率\n",
    "        \n",
    "    def fit(self,train_X,train_y):\n",
    "        \"\"\"\n",
    "        train_X.shape:(num_data,num_features)\n",
    "        train_y.shape:(num_data,y.shape[1])\n",
    "        self.W.shape:(num_features,y.shape[1])\n",
    "        self.b.shape:(1,y.shape[1])\n",
    "        \"\"\"\n",
    "        if len(train_y.shape)==1:\n",
    "            train_y=train_y.reshape(-1,1)\n",
    "        self.W=np.random.randn(train_X.shape[1],train_y.shape[1])\n",
    "        self.b=np.random.randn(1,train_y.shape[1])\n",
    "        for iterator in range(self.n_iterators):  \n",
    "            random_number=np.arange(len(train_X))\n",
    "            np.random.shuffle(random_number)\n",
    "            train_X=train_X[random_number]\n",
    "            train_y=train_y[random_number]\n",
    "            for idx in range(0,len(train_X),self.batch_size):\n",
    "                train_X1=train_X[idx:idx+self.batch_size]\n",
    "                train_y1=train_y[idx:idx+self.batch_size]\n",
    "                train_pred=train_X1.dot(self.W)+self.b\n",
    "                temp_b=np.tile(self.b,(train_X1.shape[0],1))\n",
    "                #更新参数\n",
    "                self.W=self.W-2*self.lr*(train_X1.T).dot(train_pred-train_y1)/len(train_X1)\n",
    "                self.b=self.b-2*self.lr*np.mean(train_pred-train_y1,axis=0)\n",
    "\n",
    "    def predict(self,test_X):\n",
    "        test_pred=np.zeros((len(test_X),self.b.shape[1]))\n",
    "        for idx in range(0,len(test_X),self.batch_size):\n",
    "            test_X1=test_X[idx:idx+self.batch_size]\n",
    "            test_pred[idx:idx+len(test_X1)]=test_X1.dot(self.W)+self.b\n",
    "        return np.where(test_pred.reshape(-1)>=0,1,-1)"
   ]
  },
  {
   "cell_type": "code",
   "execution_count": 5,
   "id": "0c8ccd87",
   "metadata": {
    "execution": {
     "iopub.execute_input": "2024-05-02T02:09:43.213386Z",
     "iopub.status.busy": "2024-05-02T02:09:43.212998Z",
     "iopub.status.idle": "2024-05-02T02:09:43.225009Z",
     "shell.execute_reply": "2024-05-02T02:09:43.223524Z"
    },
    "papermill": {
     "duration": 0.019111,
     "end_time": "2024-05-02T02:09:43.227292",
     "exception": false,
     "start_time": "2024-05-02T02:09:43.208181",
     "status": "completed"
    },
    "tags": []
   },
   "outputs": [
    {
     "name": "stdout",
     "output_type": "stream",
     "text": [
      "accuracy:1.0\n"
     ]
    }
   ],
   "source": [
    "model=Perceptron()\n",
    "model.fit(X,y)\n",
    "y_pred=model.predict(X)\n",
    "print(f\"accuracy:{np.mean(y==y_pred)}\")"
   ]
  }
 ],
 "metadata": {
  "kaggle": {
   "accelerator": "none",
   "dataSources": [
    {
     "datasetId": 19,
     "sourceId": 420,
     "sourceType": "datasetVersion"
    }
   ],
   "dockerImageVersionId": 30698,
   "isGpuEnabled": false,
   "isInternetEnabled": true,
   "language": "python",
   "sourceType": "notebook"
  },
  "kernelspec": {
   "display_name": "Python 3",
   "language": "python",
   "name": "python3"
  },
  "language_info": {
   "codemirror_mode": {
    "name": "ipython",
    "version": 3
   },
   "file_extension": ".py",
   "mimetype": "text/x-python",
   "name": "python",
   "nbconvert_exporter": "python",
   "pygments_lexer": "ipython3",
   "version": "3.10.13"
  },
  "papermill": {
   "default_parameters": {},
   "duration": 4.562226,
   "end_time": "2024-05-02T02:09:43.752025",
   "environment_variables": {},
   "exception": null,
   "input_path": "__notebook__.ipynb",
   "output_path": "__notebook__.ipynb",
   "parameters": {},
   "start_time": "2024-05-02T02:09:39.189799",
   "version": "2.5.0"
  }
 },
 "nbformat": 4,
 "nbformat_minor": 5
}
